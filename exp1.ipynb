{
 "cells": [
  {
   "cell_type": "code",
   "execution_count": null,
   "id": "41a34511-91b1-4ca9-884b-43527abfb3a2",
   "metadata": {},
   "outputs": [],
   "source": [
    "#Developed by: S Rajath\n",
    "#RegisterNumber:  212224240127\n",
    "\n",
    "import numpy as np\n",
    "import matplotlib.pyplot as plt\n",
    "\n",
    "X=np.array(eval(input()))\n",
    "Y=np.array(eval(input()))\n",
    "Xmean=np.mean(X)\n",
    "Ymean=np.mean(Y)\n",
    "num=0\n",
    "denom=0\n",
    "for i in range(len(X)):\n",
    "  num+=(X[i]-Xmean)*(Y[i]-Ymean)\n",
    "  denom+=(X[i]-Xmean)**2\n",
    "m=num/denom\n",
    "b=Ymean-m*Xmean\n",
    "print(\"Slope:\",m)\n",
    "print(\"Y-intercept:\",b)\n",
    "Y_predicted=m*X+b\n",
    "print(\"Y:\",Y_predicted)\n",
    "plt.scatter(X,Y)\n",
    "plt.plot(X,Y_predicted,color=\"red\")\n",
    "plt.show()"
   ]
  },
  {
   "cell_type": "code",
   "execution_count": null,
   "id": "1c80e7e0-8ccb-4fdb-9ec5-edc5e410143c",
   "metadata": {},
   "outputs": [],
   "source": []
  }
 ],
 "metadata": {
  "kernelspec": {
   "display_name": "Python [conda env:base] *",
   "language": "python",
   "name": "conda-base-py"
  },
  "language_info": {
   "codemirror_mode": {
    "name": "ipython",
    "version": 3
   },
   "file_extension": ".py",
   "mimetype": "text/x-python",
   "name": "python",
   "nbconvert_exporter": "python",
   "pygments_lexer": "ipython3",
   "version": "3.12.7"
  }
 },
 "nbformat": 4,
 "nbformat_minor": 5
}
